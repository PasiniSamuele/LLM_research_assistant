{
 "cells": [
  {
   "cell_type": "code",
   "execution_count": 1,
   "metadata": {},
   "outputs": [
    {
     "name": "stderr",
     "output_type": "stream",
     "text": [
      "/workspaces/LLM_research_assistant/.venv/lib/python3.10/site-packages/tqdm/auto.py:21: TqdmWarning: IProgress not found. Please update jupyter and ipywidgets. See https://ipywidgets.readthedocs.io/en/stable/user_install.html\n",
      "  from .autonotebook import tqdm as notebook_tqdm\n"
     ]
    }
   ],
   "source": [
    "import pandas as pd\n",
    "from langchain.llms.huggingface_pipeline import HuggingFacePipeline\n",
    "from transformers import AutoModelForCausalLM, AutoTokenizer, pipeline\n",
    "from dotenv import dotenv_values\n",
    "import sys\n",
    "sys.path.insert(0,'/workspaces/LLM_research_assistant/src')\n",
    "from utils.utils import load_yaml, init_argument_parser, sanitize_output, fill_default_parameters\n",
    "from langchain.prompts import (\n",
    "    ChatPromptTemplate, PromptTemplate\n",
    ")\n",
    "from utils.openai_utils import is_openai_model, build_chat_model\n",
    "from langchain.chat_models import ChatOpenAI\n",
    "from langchain_core.output_parsers import StrOutputParser\n",
    "import random\n",
    "import numpy as np\n",
    "from functools import partial\n",
    "from typing import List\n",
    "from langchain.embeddings import OpenAIEmbeddings\n",
    "\n",
    "\n",
    "from langchain.text_splitter import RecursiveCharacterTextSplitter\n",
    "from langchain.vectorstores import Chroma\n",
    "from langchain.document_loaders.generic import GenericLoader\n",
    "from langchain.document_loaders import WebBaseLoader\n",
    "from utils.custom_grobid_parser import CustomGrobidParser\n",
    "from langchain.docstore.document import Document\n",
    "from langchain_core.embeddings import Embeddings\n",
    "import bs4\n",
    "from langchain_core.runnables import RunnablePassthrough"
   ]
  },
  {
   "cell_type": "code",
   "execution_count": 2,
   "metadata": {},
   "outputs": [],
   "source": [
    "from langchain.vectorstores import VectorStore,Chroma\n"
   ]
  },
  {
   "cell_type": "code",
   "execution_count": 3,
   "metadata": {},
   "outputs": [],
   "source": [
    "def format_docs(docs):\n",
    "    return \"\\n\\n\".join(doc.page_content for doc in docs)"
   ]
  },
  {
   "cell_type": "code",
   "execution_count": 4,
   "metadata": {},
   "outputs": [],
   "source": [
    "seed = 156\n",
    "np.random.seed(seed)\n",
    "random.seed(seed)"
   ]
  },
  {
   "cell_type": "code",
   "execution_count": 5,
   "metadata": {},
   "outputs": [],
   "source": [
    "template_file = \"../data/templates/write_paragraph_template.txt\"\n",
    "rag_template_file = \"../data/rag_templates/basic_rag_suffix.txt\"\n",
    "task_file = \"../data/tasks/pcir.txt\"\n",
    "papers_folder = \"../data/papers/\"\n",
    "model_name = \"gpt-3.5-turbo-0613\""
   ]
  },
  {
   "cell_type": "code",
   "execution_count": 6,
   "metadata": {},
   "outputs": [],
   "source": [
    "env = dotenv_values()"
   ]
  },
  {
   "cell_type": "code",
   "execution_count": 7,
   "metadata": {},
   "outputs": [],
   "source": [
    "with open(template_file) as f:\n",
    "    template = f.read()\n",
    "with open(rag_template_file) as f:\n",
    "    template_rag = template +\"\\n\" + f.read()\n",
    "\n",
    "use_openai_api = is_openai_model(model_name)\n",
    "openai_key = env['OPENAI_API_KEY']\n",
    "model = ChatOpenAI(temperature=0, openai_api_key=openai_key, model=model_name)\n",
    "prompt_parameters = dict()\n",
    "with open(task_file) as f:\n",
    "    prompt_parameters[\"input\"] = f.read()\n",
    "\n",
    "use_openai_api = is_openai_model(model_name)\n",
    "openai_key = env['OPENAI_API_KEY']\n",
    "model = ChatOpenAI(temperature=0, openai_api_key=openai_key, model=model_name)"
   ]
  },
  {
   "cell_type": "code",
   "execution_count": 18,
   "metadata": {},
   "outputs": [],
   "source": [
    "def build_scientific_papers_loader(papers_folder:str)->List[Document]: \n",
    "    loader = GenericLoader.from_filesystem(\n",
    "        papers_folder,\n",
    "        glob=\"*\",\n",
    "        suffixes=[\".pdf\"],\n",
    "        parser=CustomGrobidParser(segment_sentences=False),\n",
    "    )\n",
    "    docs = loader.load()\n",
    "    return docs"
   ]
  },
  {
   "cell_type": "code",
   "execution_count": 9,
   "metadata": {},
   "outputs": [],
   "source": [
    "def build_documents_retriever(docs:List[Document],\n",
    "                              embeddings:Embeddings,\n",
    "                              chunk_size:int=3500,\n",
    "                              chunk_overlap:int=500):\n",
    "    text_splitter = RecursiveCharacterTextSplitter(chunk_size=chunk_size, chunk_overlap=chunk_overlap)\n",
    "    splits = text_splitter.split_documents(docs)\n",
    "\n",
    "    vectorstore = Chroma.from_documents(documents=splits, embedding=embeddings)\n",
    "    retriever = vectorstore.as_retriever()\n",
    "    return retriever"
   ]
  },
  {
   "cell_type": "code",
   "execution_count": 10,
   "metadata": {},
   "outputs": [
    {
     "ename": "KeyboardInterrupt",
     "evalue": "",
     "output_type": "error",
     "traceback": [
      "\u001b[0;31m---------------------------------------------------------------------------\u001b[0m",
      "\u001b[0;31mKeyboardInterrupt\u001b[0m                         Traceback (most recent call last)",
      "\u001b[1;32m/workspaces/LLM_research_assistant/notebooks/explore_rag_papers.ipynb Cell 10\u001b[0m line \u001b[0;36m1\n\u001b[0;32m----> <a href='vscode-notebook-cell://dev-container%2B7b22686f737450617468223a222f686f6d652f73616d75656c652f7265706f732f4c4c4d5f72657365617263685f617373697374616e74222c226c6f63616c446f636b6572223a66616c73652c22636f6e66696746696c65223a7b22246d6964223a312c2270617468223a222f686f6d652f73616d75656c652f7265706f732f4c4c4d5f72657365617263685f617373697374616e742f2e646576636f6e7461696e65722f646576636f6e7461696e65722e6a736f6e222c22736368656d65223a227673636f64652d66696c65486f7374227d7d@ssh-remote%2Bserver_tesla/workspaces/LLM_research_assistant/notebooks/explore_rag_papers.ipynb#X12sdnNjb2RlLXJlbW90ZQ%3D%3D?line=0'>1</a>\u001b[0m docs \u001b[39m=\u001b[39m  build_scientific_papers_loader(papers_folder)\n\u001b[1;32m      <a href='vscode-notebook-cell://dev-container%2B7b22686f737450617468223a222f686f6d652f73616d75656c652f7265706f732f4c4c4d5f72657365617263685f617373697374616e74222c226c6f63616c446f636b6572223a66616c73652c22636f6e66696746696c65223a7b22246d6964223a312c2270617468223a222f686f6d652f73616d75656c652f7265706f732f4c4c4d5f72657365617263685f617373697374616e742f2e646576636f6e7461696e65722f646576636f6e7461696e65722e6a736f6e222c22736368656d65223a227673636f64652d66696c65486f7374227d7d@ssh-remote%2Bserver_tesla/workspaces/LLM_research_assistant/notebooks/explore_rag_papers.ipynb#X12sdnNjb2RlLXJlbW90ZQ%3D%3D?line=1'>2</a>\u001b[0m retriever \u001b[39m=\u001b[39m build_documents_retriever(docs, embeddings\u001b[39m=\u001b[39mOpenAIEmbeddings())\n",
      "\u001b[1;32m/workspaces/LLM_research_assistant/notebooks/explore_rag_papers.ipynb Cell 10\u001b[0m line \u001b[0;36m8\n\u001b[1;32m      <a href='vscode-notebook-cell://dev-container%2B7b22686f737450617468223a222f686f6d652f73616d75656c652f7265706f732f4c4c4d5f72657365617263685f617373697374616e74222c226c6f63616c446f636b6572223a66616c73652c22636f6e66696746696c65223a7b22246d6964223a312c2270617468223a222f686f6d652f73616d75656c652f7265706f732f4c4c4d5f72657365617263685f617373697374616e742f2e646576636f6e7461696e65722f646576636f6e7461696e65722e6a736f6e222c22736368656d65223a227673636f64652d66696c65486f7374227d7d@ssh-remote%2Bserver_tesla/workspaces/LLM_research_assistant/notebooks/explore_rag_papers.ipynb#X12sdnNjb2RlLXJlbW90ZQ%3D%3D?line=0'>1</a>\u001b[0m \u001b[39mdef\u001b[39;00m \u001b[39mbuild_scientific_papers_loader\u001b[39m(papers_folder:\u001b[39mstr\u001b[39m)\u001b[39m-\u001b[39m\u001b[39m>\u001b[39mList[Document]: \n\u001b[1;32m      <a href='vscode-notebook-cell://dev-container%2B7b22686f737450617468223a222f686f6d652f73616d75656c652f7265706f732f4c4c4d5f72657365617263685f617373697374616e74222c226c6f63616c446f636b6572223a66616c73652c22636f6e66696746696c65223a7b22246d6964223a312c2270617468223a222f686f6d652f73616d75656c652f7265706f732f4c4c4d5f72657365617263685f617373697374616e742f2e646576636f6e7461696e65722f646576636f6e7461696e65722e6a736f6e222c22736368656d65223a227673636f64652d66696c65486f7374227d7d@ssh-remote%2Bserver_tesla/workspaces/LLM_research_assistant/notebooks/explore_rag_papers.ipynb#X12sdnNjb2RlLXJlbW90ZQ%3D%3D?line=1'>2</a>\u001b[0m     loader \u001b[39m=\u001b[39m GenericLoader\u001b[39m.\u001b[39mfrom_filesystem(\n\u001b[1;32m      <a href='vscode-notebook-cell://dev-container%2B7b22686f737450617468223a222f686f6d652f73616d75656c652f7265706f732f4c4c4d5f72657365617263685f617373697374616e74222c226c6f63616c446f636b6572223a66616c73652c22636f6e66696746696c65223a7b22246d6964223a312c2270617468223a222f686f6d652f73616d75656c652f7265706f732f4c4c4d5f72657365617263685f617373697374616e742f2e646576636f6e7461696e65722f646576636f6e7461696e65722e6a736f6e222c22736368656d65223a227673636f64652d66696c65486f7374227d7d@ssh-remote%2Bserver_tesla/workspaces/LLM_research_assistant/notebooks/explore_rag_papers.ipynb#X12sdnNjb2RlLXJlbW90ZQ%3D%3D?line=2'>3</a>\u001b[0m         papers_folder,\n\u001b[1;32m      <a href='vscode-notebook-cell://dev-container%2B7b22686f737450617468223a222f686f6d652f73616d75656c652f7265706f732f4c4c4d5f72657365617263685f617373697374616e74222c226c6f63616c446f636b6572223a66616c73652c22636f6e66696746696c65223a7b22246d6964223a312c2270617468223a222f686f6d652f73616d75656c652f7265706f732f4c4c4d5f72657365617263685f617373697374616e742f2e646576636f6e7461696e65722f646576636f6e7461696e65722e6a736f6e222c22736368656d65223a227673636f64652d66696c65486f7374227d7d@ssh-remote%2Bserver_tesla/workspaces/LLM_research_assistant/notebooks/explore_rag_papers.ipynb#X12sdnNjb2RlLXJlbW90ZQ%3D%3D?line=3'>4</a>\u001b[0m         glob\u001b[39m=\u001b[39m\u001b[39m\"\u001b[39m\u001b[39m*\u001b[39m\u001b[39m\"\u001b[39m,\n\u001b[1;32m      <a href='vscode-notebook-cell://dev-container%2B7b22686f737450617468223a222f686f6d652f73616d75656c652f7265706f732f4c4c4d5f72657365617263685f617373697374616e74222c226c6f63616c446f636b6572223a66616c73652c22636f6e66696746696c65223a7b22246d6964223a312c2270617468223a222f686f6d652f73616d75656c652f7265706f732f4c4c4d5f72657365617263685f617373697374616e742f2e646576636f6e7461696e65722f646576636f6e7461696e65722e6a736f6e222c22736368656d65223a227673636f64652d66696c65486f7374227d7d@ssh-remote%2Bserver_tesla/workspaces/LLM_research_assistant/notebooks/explore_rag_papers.ipynb#X12sdnNjb2RlLXJlbW90ZQ%3D%3D?line=4'>5</a>\u001b[0m         suffixes\u001b[39m=\u001b[39m[\u001b[39m\"\u001b[39m\u001b[39m.pdf\u001b[39m\u001b[39m\"\u001b[39m],\n\u001b[1;32m      <a href='vscode-notebook-cell://dev-container%2B7b22686f737450617468223a222f686f6d652f73616d75656c652f7265706f732f4c4c4d5f72657365617263685f617373697374616e74222c226c6f63616c446f636b6572223a66616c73652c22636f6e66696746696c65223a7b22246d6964223a312c2270617468223a222f686f6d652f73616d75656c652f7265706f732f4c4c4d5f72657365617263685f617373697374616e742f2e646576636f6e7461696e65722f646576636f6e7461696e65722e6a736f6e222c22736368656d65223a227673636f64652d66696c65486f7374227d7d@ssh-remote%2Bserver_tesla/workspaces/LLM_research_assistant/notebooks/explore_rag_papers.ipynb#X12sdnNjb2RlLXJlbW90ZQ%3D%3D?line=5'>6</a>\u001b[0m         parser\u001b[39m=\u001b[39mCustomGrobidParser(segment_sentences\u001b[39m=\u001b[39m\u001b[39mFalse\u001b[39;00m),\n\u001b[1;32m      <a href='vscode-notebook-cell://dev-container%2B7b22686f737450617468223a222f686f6d652f73616d75656c652f7265706f732f4c4c4d5f72657365617263685f617373697374616e74222c226c6f63616c446f636b6572223a66616c73652c22636f6e66696746696c65223a7b22246d6964223a312c2270617468223a222f686f6d652f73616d75656c652f7265706f732f4c4c4d5f72657365617263685f617373697374616e742f2e646576636f6e7461696e65722f646576636f6e7461696e65722e6a736f6e222c22736368656d65223a227673636f64652d66696c65486f7374227d7d@ssh-remote%2Bserver_tesla/workspaces/LLM_research_assistant/notebooks/explore_rag_papers.ipynb#X12sdnNjb2RlLXJlbW90ZQ%3D%3D?line=6'>7</a>\u001b[0m     )\n\u001b[0;32m----> <a href='vscode-notebook-cell://dev-container%2B7b22686f737450617468223a222f686f6d652f73616d75656c652f7265706f732f4c4c4d5f72657365617263685f617373697374616e74222c226c6f63616c446f636b6572223a66616c73652c22636f6e66696746696c65223a7b22246d6964223a312c2270617468223a222f686f6d652f73616d75656c652f7265706f732f4c4c4d5f72657365617263685f617373697374616e742f2e646576636f6e7461696e65722f646576636f6e7461696e65722e6a736f6e222c22736368656d65223a227673636f64652d66696c65486f7374227d7d@ssh-remote%2Bserver_tesla/workspaces/LLM_research_assistant/notebooks/explore_rag_papers.ipynb#X12sdnNjb2RlLXJlbW90ZQ%3D%3D?line=7'>8</a>\u001b[0m     docs \u001b[39m=\u001b[39m loader\u001b[39m.\u001b[39;49mload()\n\u001b[1;32m      <a href='vscode-notebook-cell://dev-container%2B7b22686f737450617468223a222f686f6d652f73616d75656c652f7265706f732f4c4c4d5f72657365617263685f617373697374616e74222c226c6f63616c446f636b6572223a66616c73652c22636f6e66696746696c65223a7b22246d6964223a312c2270617468223a222f686f6d652f73616d75656c652f7265706f732f4c4c4d5f72657365617263685f617373697374616e742f2e646576636f6e7461696e65722f646576636f6e7461696e65722e6a736f6e222c22736368656d65223a227673636f64652d66696c65486f7374227d7d@ssh-remote%2Bserver_tesla/workspaces/LLM_research_assistant/notebooks/explore_rag_papers.ipynb#X12sdnNjb2RlLXJlbW90ZQ%3D%3D?line=8'>9</a>\u001b[0m     \u001b[39mreturn\u001b[39;00m docs\n",
      "File \u001b[0;32m/workspaces/LLM_research_assistant/.venv/lib/python3.10/site-packages/langchain/document_loaders/generic.py:106\u001b[0m, in \u001b[0;36mGenericLoader.load\u001b[0;34m(self)\u001b[0m\n\u001b[1;32m    104\u001b[0m \u001b[39mdef\u001b[39;00m \u001b[39mload\u001b[39m(\u001b[39mself\u001b[39m) \u001b[39m-\u001b[39m\u001b[39m>\u001b[39m List[Document]:\n\u001b[1;32m    105\u001b[0m \u001b[39m    \u001b[39m\u001b[39m\"\"\"Load all documents.\"\"\"\u001b[39;00m\n\u001b[0;32m--> 106\u001b[0m     \u001b[39mreturn\u001b[39;00m \u001b[39mlist\u001b[39;49m(\u001b[39mself\u001b[39;49m\u001b[39m.\u001b[39;49mlazy_load())\n",
      "File \u001b[0;32m/workspaces/LLM_research_assistant/.venv/lib/python3.10/site-packages/langchain/document_loaders/generic.py:102\u001b[0m, in \u001b[0;36mGenericLoader.lazy_load\u001b[0;34m(self)\u001b[0m\n\u001b[1;32m    100\u001b[0m \u001b[39m\u001b[39m\u001b[39m\"\"\"Load documents lazily. Use this when working at a large scale.\"\"\"\u001b[39;00m\n\u001b[1;32m    101\u001b[0m \u001b[39mfor\u001b[39;00m blob \u001b[39min\u001b[39;00m \u001b[39mself\u001b[39m\u001b[39m.\u001b[39mblob_loader\u001b[39m.\u001b[39myield_blobs():\n\u001b[0;32m--> 102\u001b[0m     \u001b[39myield from\u001b[39;00m \u001b[39mself\u001b[39;49m\u001b[39m.\u001b[39;49mblob_parser\u001b[39m.\u001b[39;49mlazy_parse(blob)\n",
      "File \u001b[0;32m/workspaces/LLM_research_assistant/.venv/lib/python3.10/site-packages/langchain/document_loaders/parsers/grobid.py:131\u001b[0m, in \u001b[0;36mGrobidParser.lazy_parse\u001b[0;34m(self, blob)\u001b[0m\n\u001b[1;32m    129\u001b[0m     data[\u001b[39m\"\u001b[39m\u001b[39mteiCoordinates\u001b[39m\u001b[39m\"\u001b[39m] \u001b[39m=\u001b[39m [\u001b[39m\"\u001b[39m\u001b[39mhead\u001b[39m\u001b[39m\"\u001b[39m, \u001b[39m\"\u001b[39m\u001b[39ms\u001b[39m\u001b[39m\"\u001b[39m]\n\u001b[1;32m    130\u001b[0m     files \u001b[39m=\u001b[39m files \u001b[39mor\u001b[39;00m {}\n\u001b[0;32m--> 131\u001b[0m     r \u001b[39m=\u001b[39m requests\u001b[39m.\u001b[39;49mrequest(\n\u001b[1;32m    132\u001b[0m         \u001b[39m\"\u001b[39;49m\u001b[39mPOST\u001b[39;49m\u001b[39m\"\u001b[39;49m,\n\u001b[1;32m    133\u001b[0m         \u001b[39mself\u001b[39;49m\u001b[39m.\u001b[39;49mgrobid_server,\n\u001b[1;32m    134\u001b[0m         headers\u001b[39m=\u001b[39;49m\u001b[39mNone\u001b[39;49;00m,\n\u001b[1;32m    135\u001b[0m         params\u001b[39m=\u001b[39;49m\u001b[39mNone\u001b[39;49;00m,\n\u001b[1;32m    136\u001b[0m         files\u001b[39m=\u001b[39;49mfiles,\n\u001b[1;32m    137\u001b[0m         data\u001b[39m=\u001b[39;49mdata,\n\u001b[1;32m    138\u001b[0m         timeout\u001b[39m=\u001b[39;49m\u001b[39m60\u001b[39;49m,\n\u001b[1;32m    139\u001b[0m     )\n\u001b[1;32m    140\u001b[0m     xml_data \u001b[39m=\u001b[39m r\u001b[39m.\u001b[39mtext\n\u001b[1;32m    141\u001b[0m \u001b[39mexcept\u001b[39;00m requests\u001b[39m.\u001b[39mexceptions\u001b[39m.\u001b[39mReadTimeout:\n",
      "File \u001b[0;32m/workspaces/LLM_research_assistant/.venv/lib/python3.10/site-packages/requests/api.py:59\u001b[0m, in \u001b[0;36mrequest\u001b[0;34m(method, url, **kwargs)\u001b[0m\n\u001b[1;32m     55\u001b[0m \u001b[39m# By using the 'with' statement we are sure the session is closed, thus we\u001b[39;00m\n\u001b[1;32m     56\u001b[0m \u001b[39m# avoid leaving sockets open which can trigger a ResourceWarning in some\u001b[39;00m\n\u001b[1;32m     57\u001b[0m \u001b[39m# cases, and look like a memory leak in others.\u001b[39;00m\n\u001b[1;32m     58\u001b[0m \u001b[39mwith\u001b[39;00m sessions\u001b[39m.\u001b[39mSession() \u001b[39mas\u001b[39;00m session:\n\u001b[0;32m---> 59\u001b[0m     \u001b[39mreturn\u001b[39;00m session\u001b[39m.\u001b[39;49mrequest(method\u001b[39m=\u001b[39;49mmethod, url\u001b[39m=\u001b[39;49murl, \u001b[39m*\u001b[39;49m\u001b[39m*\u001b[39;49mkwargs)\n",
      "File \u001b[0;32m/workspaces/LLM_research_assistant/.venv/lib/python3.10/site-packages/requests/sessions.py:589\u001b[0m, in \u001b[0;36mSession.request\u001b[0;34m(self, method, url, params, data, headers, cookies, files, auth, timeout, allow_redirects, proxies, hooks, stream, verify, cert, json)\u001b[0m\n\u001b[1;32m    584\u001b[0m send_kwargs \u001b[39m=\u001b[39m {\n\u001b[1;32m    585\u001b[0m     \u001b[39m\"\u001b[39m\u001b[39mtimeout\u001b[39m\u001b[39m\"\u001b[39m: timeout,\n\u001b[1;32m    586\u001b[0m     \u001b[39m\"\u001b[39m\u001b[39mallow_redirects\u001b[39m\u001b[39m\"\u001b[39m: allow_redirects,\n\u001b[1;32m    587\u001b[0m }\n\u001b[1;32m    588\u001b[0m send_kwargs\u001b[39m.\u001b[39mupdate(settings)\n\u001b[0;32m--> 589\u001b[0m resp \u001b[39m=\u001b[39m \u001b[39mself\u001b[39;49m\u001b[39m.\u001b[39;49msend(prep, \u001b[39m*\u001b[39;49m\u001b[39m*\u001b[39;49msend_kwargs)\n\u001b[1;32m    591\u001b[0m \u001b[39mreturn\u001b[39;00m resp\n",
      "File \u001b[0;32m/workspaces/LLM_research_assistant/.venv/lib/python3.10/site-packages/requests/sessions.py:703\u001b[0m, in \u001b[0;36mSession.send\u001b[0;34m(self, request, **kwargs)\u001b[0m\n\u001b[1;32m    700\u001b[0m start \u001b[39m=\u001b[39m preferred_clock()\n\u001b[1;32m    702\u001b[0m \u001b[39m# Send the request\u001b[39;00m\n\u001b[0;32m--> 703\u001b[0m r \u001b[39m=\u001b[39m adapter\u001b[39m.\u001b[39;49msend(request, \u001b[39m*\u001b[39;49m\u001b[39m*\u001b[39;49mkwargs)\n\u001b[1;32m    705\u001b[0m \u001b[39m# Total elapsed time of the request (approximately)\u001b[39;00m\n\u001b[1;32m    706\u001b[0m elapsed \u001b[39m=\u001b[39m preferred_clock() \u001b[39m-\u001b[39m start\n",
      "File \u001b[0;32m/workspaces/LLM_research_assistant/.venv/lib/python3.10/site-packages/requests/adapters.py:486\u001b[0m, in \u001b[0;36mHTTPAdapter.send\u001b[0;34m(self, request, stream, timeout, verify, cert, proxies)\u001b[0m\n\u001b[1;32m    483\u001b[0m     timeout \u001b[39m=\u001b[39m TimeoutSauce(connect\u001b[39m=\u001b[39mtimeout, read\u001b[39m=\u001b[39mtimeout)\n\u001b[1;32m    485\u001b[0m \u001b[39mtry\u001b[39;00m:\n\u001b[0;32m--> 486\u001b[0m     resp \u001b[39m=\u001b[39m conn\u001b[39m.\u001b[39;49murlopen(\n\u001b[1;32m    487\u001b[0m         method\u001b[39m=\u001b[39;49mrequest\u001b[39m.\u001b[39;49mmethod,\n\u001b[1;32m    488\u001b[0m         url\u001b[39m=\u001b[39;49murl,\n\u001b[1;32m    489\u001b[0m         body\u001b[39m=\u001b[39;49mrequest\u001b[39m.\u001b[39;49mbody,\n\u001b[1;32m    490\u001b[0m         headers\u001b[39m=\u001b[39;49mrequest\u001b[39m.\u001b[39;49mheaders,\n\u001b[1;32m    491\u001b[0m         redirect\u001b[39m=\u001b[39;49m\u001b[39mFalse\u001b[39;49;00m,\n\u001b[1;32m    492\u001b[0m         assert_same_host\u001b[39m=\u001b[39;49m\u001b[39mFalse\u001b[39;49;00m,\n\u001b[1;32m    493\u001b[0m         preload_content\u001b[39m=\u001b[39;49m\u001b[39mFalse\u001b[39;49;00m,\n\u001b[1;32m    494\u001b[0m         decode_content\u001b[39m=\u001b[39;49m\u001b[39mFalse\u001b[39;49;00m,\n\u001b[1;32m    495\u001b[0m         retries\u001b[39m=\u001b[39;49m\u001b[39mself\u001b[39;49m\u001b[39m.\u001b[39;49mmax_retries,\n\u001b[1;32m    496\u001b[0m         timeout\u001b[39m=\u001b[39;49mtimeout,\n\u001b[1;32m    497\u001b[0m         chunked\u001b[39m=\u001b[39;49mchunked,\n\u001b[1;32m    498\u001b[0m     )\n\u001b[1;32m    500\u001b[0m \u001b[39mexcept\u001b[39;00m (ProtocolError, \u001b[39mOSError\u001b[39;00m) \u001b[39mas\u001b[39;00m err:\n\u001b[1;32m    501\u001b[0m     \u001b[39mraise\u001b[39;00m \u001b[39mConnectionError\u001b[39;00m(err, request\u001b[39m=\u001b[39mrequest)\n",
      "File \u001b[0;32m/workspaces/LLM_research_assistant/.venv/lib/python3.10/site-packages/urllib3/connectionpool.py:790\u001b[0m, in \u001b[0;36mHTTPConnectionPool.urlopen\u001b[0;34m(self, method, url, body, headers, retries, redirect, assert_same_host, timeout, pool_timeout, release_conn, chunked, body_pos, preload_content, decode_content, **response_kw)\u001b[0m\n\u001b[1;32m    787\u001b[0m response_conn \u001b[39m=\u001b[39m conn \u001b[39mif\u001b[39;00m \u001b[39mnot\u001b[39;00m release_conn \u001b[39melse\u001b[39;00m \u001b[39mNone\u001b[39;00m\n\u001b[1;32m    789\u001b[0m \u001b[39m# Make the request on the HTTPConnection object\u001b[39;00m\n\u001b[0;32m--> 790\u001b[0m response \u001b[39m=\u001b[39m \u001b[39mself\u001b[39;49m\u001b[39m.\u001b[39;49m_make_request(\n\u001b[1;32m    791\u001b[0m     conn,\n\u001b[1;32m    792\u001b[0m     method,\n\u001b[1;32m    793\u001b[0m     url,\n\u001b[1;32m    794\u001b[0m     timeout\u001b[39m=\u001b[39;49mtimeout_obj,\n\u001b[1;32m    795\u001b[0m     body\u001b[39m=\u001b[39;49mbody,\n\u001b[1;32m    796\u001b[0m     headers\u001b[39m=\u001b[39;49mheaders,\n\u001b[1;32m    797\u001b[0m     chunked\u001b[39m=\u001b[39;49mchunked,\n\u001b[1;32m    798\u001b[0m     retries\u001b[39m=\u001b[39;49mretries,\n\u001b[1;32m    799\u001b[0m     response_conn\u001b[39m=\u001b[39;49mresponse_conn,\n\u001b[1;32m    800\u001b[0m     preload_content\u001b[39m=\u001b[39;49mpreload_content,\n\u001b[1;32m    801\u001b[0m     decode_content\u001b[39m=\u001b[39;49mdecode_content,\n\u001b[1;32m    802\u001b[0m     \u001b[39m*\u001b[39;49m\u001b[39m*\u001b[39;49mresponse_kw,\n\u001b[1;32m    803\u001b[0m )\n\u001b[1;32m    805\u001b[0m \u001b[39m# Everything went great!\u001b[39;00m\n\u001b[1;32m    806\u001b[0m clean_exit \u001b[39m=\u001b[39m \u001b[39mTrue\u001b[39;00m\n",
      "File \u001b[0;32m/workspaces/LLM_research_assistant/.venv/lib/python3.10/site-packages/urllib3/connectionpool.py:536\u001b[0m, in \u001b[0;36mHTTPConnectionPool._make_request\u001b[0;34m(self, conn, method, url, body, headers, retries, timeout, chunked, response_conn, preload_content, decode_content, enforce_content_length)\u001b[0m\n\u001b[1;32m    534\u001b[0m \u001b[39m# Receive the response from the server\u001b[39;00m\n\u001b[1;32m    535\u001b[0m \u001b[39mtry\u001b[39;00m:\n\u001b[0;32m--> 536\u001b[0m     response \u001b[39m=\u001b[39m conn\u001b[39m.\u001b[39;49mgetresponse()\n\u001b[1;32m    537\u001b[0m \u001b[39mexcept\u001b[39;00m (BaseSSLError, \u001b[39mOSError\u001b[39;00m) \u001b[39mas\u001b[39;00m e:\n\u001b[1;32m    538\u001b[0m     \u001b[39mself\u001b[39m\u001b[39m.\u001b[39m_raise_timeout(err\u001b[39m=\u001b[39me, url\u001b[39m=\u001b[39murl, timeout_value\u001b[39m=\u001b[39mread_timeout)\n",
      "File \u001b[0;32m/workspaces/LLM_research_assistant/.venv/lib/python3.10/site-packages/urllib3/connection.py:461\u001b[0m, in \u001b[0;36mHTTPConnection.getresponse\u001b[0;34m(self)\u001b[0m\n\u001b[1;32m    458\u001b[0m \u001b[39mfrom\u001b[39;00m \u001b[39m.\u001b[39;00m\u001b[39mresponse\u001b[39;00m \u001b[39mimport\u001b[39;00m HTTPResponse\n\u001b[1;32m    460\u001b[0m \u001b[39m# Get the response from http.client.HTTPConnection\u001b[39;00m\n\u001b[0;32m--> 461\u001b[0m httplib_response \u001b[39m=\u001b[39m \u001b[39msuper\u001b[39;49m()\u001b[39m.\u001b[39;49mgetresponse()\n\u001b[1;32m    463\u001b[0m \u001b[39mtry\u001b[39;00m:\n\u001b[1;32m    464\u001b[0m     assert_header_parsing(httplib_response\u001b[39m.\u001b[39mmsg)\n",
      "File \u001b[0;32m/usr/lib/python3.10/http/client.py:1375\u001b[0m, in \u001b[0;36mHTTPConnection.getresponse\u001b[0;34m(self)\u001b[0m\n\u001b[1;32m   1373\u001b[0m \u001b[39mtry\u001b[39;00m:\n\u001b[1;32m   1374\u001b[0m     \u001b[39mtry\u001b[39;00m:\n\u001b[0;32m-> 1375\u001b[0m         response\u001b[39m.\u001b[39;49mbegin()\n\u001b[1;32m   1376\u001b[0m     \u001b[39mexcept\u001b[39;00m \u001b[39mConnectionError\u001b[39;00m:\n\u001b[1;32m   1377\u001b[0m         \u001b[39mself\u001b[39m\u001b[39m.\u001b[39mclose()\n",
      "File \u001b[0;32m/usr/lib/python3.10/http/client.py:318\u001b[0m, in \u001b[0;36mHTTPResponse.begin\u001b[0;34m(self)\u001b[0m\n\u001b[1;32m    316\u001b[0m \u001b[39m# read until we get a non-100 response\u001b[39;00m\n\u001b[1;32m    317\u001b[0m \u001b[39mwhile\u001b[39;00m \u001b[39mTrue\u001b[39;00m:\n\u001b[0;32m--> 318\u001b[0m     version, status, reason \u001b[39m=\u001b[39m \u001b[39mself\u001b[39;49m\u001b[39m.\u001b[39;49m_read_status()\n\u001b[1;32m    319\u001b[0m     \u001b[39mif\u001b[39;00m status \u001b[39m!=\u001b[39m CONTINUE:\n\u001b[1;32m    320\u001b[0m         \u001b[39mbreak\u001b[39;00m\n",
      "File \u001b[0;32m/usr/lib/python3.10/http/client.py:279\u001b[0m, in \u001b[0;36mHTTPResponse._read_status\u001b[0;34m(self)\u001b[0m\n\u001b[1;32m    278\u001b[0m \u001b[39mdef\u001b[39;00m \u001b[39m_read_status\u001b[39m(\u001b[39mself\u001b[39m):\n\u001b[0;32m--> 279\u001b[0m     line \u001b[39m=\u001b[39m \u001b[39mstr\u001b[39m(\u001b[39mself\u001b[39;49m\u001b[39m.\u001b[39;49mfp\u001b[39m.\u001b[39;49mreadline(_MAXLINE \u001b[39m+\u001b[39;49m \u001b[39m1\u001b[39;49m), \u001b[39m\"\u001b[39m\u001b[39miso-8859-1\u001b[39m\u001b[39m\"\u001b[39m)\n\u001b[1;32m    280\u001b[0m     \u001b[39mif\u001b[39;00m \u001b[39mlen\u001b[39m(line) \u001b[39m>\u001b[39m _MAXLINE:\n\u001b[1;32m    281\u001b[0m         \u001b[39mraise\u001b[39;00m LineTooLong(\u001b[39m\"\u001b[39m\u001b[39mstatus line\u001b[39m\u001b[39m\"\u001b[39m)\n",
      "File \u001b[0;32m/usr/lib/python3.10/socket.py:705\u001b[0m, in \u001b[0;36mSocketIO.readinto\u001b[0;34m(self, b)\u001b[0m\n\u001b[1;32m    703\u001b[0m \u001b[39mwhile\u001b[39;00m \u001b[39mTrue\u001b[39;00m:\n\u001b[1;32m    704\u001b[0m     \u001b[39mtry\u001b[39;00m:\n\u001b[0;32m--> 705\u001b[0m         \u001b[39mreturn\u001b[39;00m \u001b[39mself\u001b[39;49m\u001b[39m.\u001b[39;49m_sock\u001b[39m.\u001b[39;49mrecv_into(b)\n\u001b[1;32m    706\u001b[0m     \u001b[39mexcept\u001b[39;00m timeout:\n\u001b[1;32m    707\u001b[0m         \u001b[39mself\u001b[39m\u001b[39m.\u001b[39m_timeout_occurred \u001b[39m=\u001b[39m \u001b[39mTrue\u001b[39;00m\n",
      "\u001b[0;31mKeyboardInterrupt\u001b[0m: "
     ]
    }
   ],
   "source": [
    "docs =  build_scientific_papers_loader(papers_folder)\n",
    "retriever = build_documents_retriever(docs, embeddings=OpenAIEmbeddings())"
   ]
  },
  {
   "cell_type": "code",
   "execution_count": 19,
   "metadata": {},
   "outputs": [
    {
     "data": {
      "text/plain": [
       "'What are the main components and they key innovations of Progressive Contextual Instance Refinement (PCIR)?'"
      ]
     },
     "execution_count": 19,
     "metadata": {},
     "output_type": "execute_result"
    }
   ],
   "source": [
    "prompt_parameters[\"input\"]"
   ]
  },
  {
   "cell_type": "code",
   "execution_count": 61,
   "metadata": {},
   "outputs": [
    {
     "data": {
      "text/plain": [
       "[Document(page_content='Combining DCIR with PPSP formulates a progressive contextual instance refinement (PCIR) process.', metadata={'bboxes': \"[[{'page': '2', 'x': '321.96', 'y': '334.52', 'h': '241.38', 'w': '8.76'}, {'page': '2', 'x': '312.00', 'y': '346.40', 'h': '200.51', 'w': '8.76'}], [{'page': '2', 'x': '518.06', 'y': '346.40', 'h': '45.03', 'w': '8.76'}, {'page': '2', 'x': '312.00', 'y': '358.40', 'h': '250.99', 'w': '8.76'}, {'page': '2', 'x': '312.00', 'y': '370.28', 'h': '251.31', 'w': '8.76'}, {'page': '2', 'x': '312.00', 'y': '382.28', 'h': '216.93', 'w': '8.76'}], [{'page': '2', 'x': '533.16', 'y': '382.28', 'h': '30.08', 'w': '8.76'}, {'page': '2', 'x': '312.00', 'y': '394.28', 'h': '251.12', 'w': '8.76'}, {'page': '2', 'x': '312.00', 'y': '406.16', 'h': '251.01', 'w': '8.76'}, {'page': '2', 'x': '312.00', 'y': '418.16', 'h': '251.11', 'w': '8.76'}, {'page': '2', 'x': '312.00', 'y': '430.16', 'h': '23.10', 'w': '8.76'}], [{'page': '2', 'x': '338.37', 'y': '430.16', 'h': '224.89', 'w': '8.76'}, {'page': '2', 'x': '312.00', 'y': '442.04', 'h': '44.02', 'w': '8.76'}]]\", 'file_path': '../data/papers/2020 - Progressive Contextual Instance Refinement for Weakly Supervised Object Detection in Remote Sensing Images.pdf', 'pages': \"('2', '2')\", 'paper_title': 'Progressive Contextual Instance Refinement for Weakly Supervised Object Detection in Remote Sensing Images', 'para': '0', 'section_number': 'None', 'section_title': 'I. INTRODUCTION', 'text': 'Combining DCIR with PPSP formulates a progressive contextual instance refinement (PCIR) process.'}),\n",
       " Document(page_content='Combining DCIR with PPSP formulates a progressive contextual instance refinement (PCIR) process.', metadata={'bboxes': \"[[{'page': '2', 'x': '321.96', 'y': '334.52', 'h': '241.38', 'w': '8.76'}, {'page': '2', 'x': '312.00', 'y': '346.40', 'h': '200.51', 'w': '8.76'}], [{'page': '2', 'x': '518.06', 'y': '346.40', 'h': '45.03', 'w': '8.76'}, {'page': '2', 'x': '312.00', 'y': '358.40', 'h': '250.99', 'w': '8.76'}, {'page': '2', 'x': '312.00', 'y': '370.28', 'h': '251.31', 'w': '8.76'}, {'page': '2', 'x': '312.00', 'y': '382.28', 'h': '216.93', 'w': '8.76'}], [{'page': '2', 'x': '533.16', 'y': '382.28', 'h': '30.08', 'w': '8.76'}, {'page': '2', 'x': '312.00', 'y': '394.28', 'h': '251.12', 'w': '8.76'}, {'page': '2', 'x': '312.00', 'y': '406.16', 'h': '251.01', 'w': '8.76'}, {'page': '2', 'x': '312.00', 'y': '418.16', 'h': '251.11', 'w': '8.76'}, {'page': '2', 'x': '312.00', 'y': '430.16', 'h': '23.10', 'w': '8.76'}], [{'page': '2', 'x': '338.37', 'y': '430.16', 'h': '224.89', 'w': '8.76'}, {'page': '2', 'x': '312.00', 'y': '442.04', 'h': '44.02', 'w': '8.76'}]]\", 'file_path': '../data/selected_papers/2020 - Progressive Contextual Instance Refinement for Weakly Supervised Object Detection in Remote Sensing Images.pdf', 'pages': \"('2', '2')\", 'paper_title': 'Progressive Contextual Instance Refinement for Weakly Supervised Object Detection in Remote Sensing Images', 'para': '0', 'section_number': 'None', 'section_title': 'I. INTRODUCTION', 'text': 'Combining DCIR with PPSP formulates a progressive contextual instance refinement (PCIR) process.'}),\n",
       " Document(page_content='Combining DCIR with PPSP formulates a progressive contextual instance refinement (PCIR) process.', metadata={'bboxes': \"[[{'page': '2', 'x': '321.96', 'y': '334.52', 'h': '241.38', 'w': '8.76'}, {'page': '2', 'x': '312.00', 'y': '346.40', 'h': '200.51', 'w': '8.76'}], [{'page': '2', 'x': '518.06', 'y': '346.40', 'h': '45.03', 'w': '8.76'}, {'page': '2', 'x': '312.00', 'y': '358.40', 'h': '250.99', 'w': '8.76'}, {'page': '2', 'x': '312.00', 'y': '370.28', 'h': '251.31', 'w': '8.76'}, {'page': '2', 'x': '312.00', 'y': '382.28', 'h': '216.93', 'w': '8.76'}], [{'page': '2', 'x': '533.16', 'y': '382.28', 'h': '30.08', 'w': '8.76'}, {'page': '2', 'x': '312.00', 'y': '394.28', 'h': '251.12', 'w': '8.76'}, {'page': '2', 'x': '312.00', 'y': '406.16', 'h': '251.01', 'w': '8.76'}, {'page': '2', 'x': '312.00', 'y': '418.16', 'h': '251.11', 'w': '8.76'}, {'page': '2', 'x': '312.00', 'y': '430.16', 'h': '23.10', 'w': '8.76'}], [{'page': '2', 'x': '338.37', 'y': '430.16', 'h': '224.89', 'w': '8.76'}, {'page': '2', 'x': '312.00', 'y': '442.04', 'h': '44.02', 'w': '8.76'}]]\", 'file_path': '../data/selected_papers/2020 - Progressive Contextual Instance Refinement for Weakly Supervised Object Detection in Remote Sensing Images.pdf', 'pages': \"('2', '2')\", 'paper_title': 'Progressive Contextual Instance Refinement for Weakly Supervised Object Detection in Remote Sensing Images', 'para': '0', 'section_number': 'None', 'section_title': 'I. INTRODUCTION', 'text': 'Combining DCIR with PPSP formulates a progressive contextual instance refinement (PCIR) process.'}),\n",
       " Document(page_content='Combining DCIR with PPSP formulates a progressive contextual instance refinement (PCIR) process.The DCIR module endeavors to mine all potential instances existing in the images, while the PPSP module removes noisy negative samples and maintains the diversity of the samples.', metadata={'bboxes': \"[[{'page': '2', 'x': '321.96', 'y': '334.52', 'h': '241.38', 'w': '8.76'}, {'page': '2', 'x': '312.00', 'y': '346.40', 'h': '200.51', 'w': '8.76'}], [{'page': '2', 'x': '518.06', 'y': '346.40', 'h': '45.03', 'w': '8.76'}, {'page': '2', 'x': '312.00', 'y': '358.40', 'h': '250.99', 'w': '8.76'}, {'page': '2', 'x': '312.00', 'y': '370.28', 'h': '251.31', 'w': '8.76'}, {'page': '2', 'x': '312.00', 'y': '382.28', 'h': '216.93', 'w': '8.76'}], [{'page': '2', 'x': '533.16', 'y': '382.28', 'h': '30.08', 'w': '8.76'}, {'page': '2', 'x': '312.00', 'y': '394.28', 'h': '251.12', 'w': '8.76'}, {'page': '2', 'x': '312.00', 'y': '406.16', 'h': '251.01', 'w': '8.76'}, {'page': '2', 'x': '312.00', 'y': '418.16', 'h': '251.11', 'w': '8.76'}, {'page': '2', 'x': '312.00', 'y': '430.16', 'h': '23.10', 'w': '8.76'}], [{'page': '2', 'x': '338.37', 'y': '430.16', 'h': '224.89', 'w': '8.76'}, {'page': '2', 'x': '312.00', 'y': '442.04', 'h': '44.02', 'w': '8.76'}]]\", 'file_path': '../data/papers/2020 - Progressive Contextual Instance Refinement for Weakly Supervised Object Detection in Remote Sensing Images.pdf', 'pages': \"('2', '2')\", 'paper_title': 'Progressive Contextual Instance Refinement for Weakly Supervised Object Detection in Remote Sensing Images', 'para': '1', 'section_number': 'None', 'section_title': 'I. INTRODUCTION', 'text': 'Combining DCIR with PPSP formulates a progressive contextual instance refinement (PCIR) process.The DCIR module endeavors to mine all potential instances existing in the images, while the PPSP module removes noisy negative samples and maintains the diversity of the samples.'})]"
      ]
     },
     "execution_count": 61,
     "metadata": {},
     "output_type": "execute_result"
    }
   ],
   "source": [
    "retriever.get_relevant_documents( prompt_parameters[\"input\"], k=22)"
   ]
  },
  {
   "cell_type": "code",
   "execution_count": 62,
   "metadata": {},
   "outputs": [
    {
     "data": {
      "text/plain": [
       "'The user will provide one or more questions related to a scientific argument. \\nYou are a paper writing assistant that writes a paragraph that answers to the questions.\\nNotice that the paragraph will be part of a scientific paper, so the writing style must be technical and formal, with the insertion of appropriate citations.\\n\\n'"
      ]
     },
     "execution_count": 62,
     "metadata": {},
     "output_type": "execute_result"
    }
   ],
   "source": [
    "template"
   ]
  },
  {
   "cell_type": "code",
   "execution_count": 63,
   "metadata": {},
   "outputs": [],
   "source": [
    "prompt = ChatPromptTemplate.from_messages([(\"system\", template), (\"human\", \"{input}\")])\n"
   ]
  },
  {
   "cell_type": "code",
   "execution_count": 64,
   "metadata": {},
   "outputs": [],
   "source": [
    "chain =  prompt | model | StrOutputParser() "
   ]
  },
  {
   "cell_type": "code",
   "execution_count": 65,
   "metadata": {},
   "outputs": [
    {
     "name": "stdout",
     "output_type": "stream",
     "text": [
      "System: The user will provide one or more questions related to a scientific argument. \n",
      "You are a paper writing assistant that writes a paragraph that answers to the questions.\n",
      "Notice that the paragraph will be part of a scientific paper, so the writing style must be technical and formal, with the insertion of appropriate citations.\n",
      "\n",
      "\n",
      "Human: What are the main components and they key innovations of Progressive Contextual Instance Refinement (PCIR)?\n"
     ]
    }
   ],
   "source": [
    "print(prompt.format(**prompt_parameters))\n"
   ]
  },
  {
   "cell_type": "code",
   "execution_count": 66,
   "metadata": {},
   "outputs": [],
   "source": [
    "response = chain.invoke(prompt_parameters)\n"
   ]
  },
  {
   "cell_type": "code",
   "execution_count": 67,
   "metadata": {},
   "outputs": [
    {
     "data": {
      "text/plain": [
       "'Progressive Contextual Instance Refinement (PCIR) is a novel approach in the field of computer vision that aims to improve the accuracy of object detection and instance segmentation tasks. The main components of PCIR include a backbone network, a contextual module, and an instance refinement module. The backbone network is responsible for extracting high-level features from the input image. The contextual module incorporates contextual information by aggregating features from different levels of the backbone network. This allows the model to capture both local and global context, leading to more accurate predictions. The instance refinement module further refines the predicted instances by iteratively updating the instance masks based on the contextual information. This iterative refinement process helps to improve the segmentation accuracy by reducing false positives and refining the boundaries of the predicted instances. The key innovation of PCIR lies in its progressive refinement strategy, which enables the model to iteratively refine the instance masks based on the contextual information, leading to improved accuracy in object detection and instance segmentation tasks.'"
      ]
     },
     "execution_count": 67,
     "metadata": {},
     "output_type": "execute_result"
    }
   ],
   "source": [
    "response"
   ]
  },
  {
   "cell_type": "code",
   "execution_count": 42,
   "metadata": {},
   "outputs": [],
   "source": [
    "#prompt_parameters[\"context\"] = retriever | format_docs"
   ]
  },
  {
   "cell_type": "code",
   "execution_count": 43,
   "metadata": {},
   "outputs": [],
   "source": [
    "prompt_rag = ChatPromptTemplate.from_messages([(\"system\", template_rag), (\"human\", \"{input}\")])\n"
   ]
  },
  {
   "cell_type": "code",
   "execution_count": 44,
   "metadata": {},
   "outputs": [],
   "source": [
    "chain_rag =   {\"context\": retriever | format_docs, \"input\": RunnablePassthrough()} | prompt_rag | model | StrOutputParser() "
   ]
  },
  {
   "cell_type": "code",
   "execution_count": 2,
   "metadata": {},
   "outputs": [
    {
     "ename": "NameError",
     "evalue": "name 'retriever' is not defined",
     "output_type": "error",
     "traceback": [
      "\u001b[0;31m---------------------------------------------------------------------------\u001b[0m",
      "\u001b[0;31mNameError\u001b[0m                                 Traceback (most recent call last)",
      "\u001b[1;32m/workspaces/LLM_research_assistant/notebooks/explore_rag_papers.ipynb Cell 21\u001b[0m line \u001b[0;36m1\n\u001b[0;32m----> <a href='vscode-notebook-cell://dev-container%2B7b22686f737450617468223a222f686f6d652f73616d75656c652f7265706f732f4c4c4d5f72657365617263685f617373697374616e74222c226c6f63616c446f636b6572223a66616c73652c22636f6e66696746696c65223a7b22246d6964223a312c2270617468223a222f686f6d652f73616d75656c652f7265706f732f4c4c4d5f72657365617263685f617373697374616e742f2e646576636f6e7461696e65722f646576636f6e7461696e65722e6a736f6e222c22736368656d65223a227673636f64652d66696c65486f7374227d7d@ssh-remote%2Bserver_tesla/workspaces/LLM_research_assistant/notebooks/explore_rag_papers.ipynb#X26sdnNjb2RlLXJlbW90ZQ%3D%3D?line=0'>1</a>\u001b[0m context \u001b[39m=\u001b[39m (retriever \u001b[39m|\u001b[39m format_docs)\u001b[39m.\u001b[39minvoke(prompt_parameters[\u001b[39m'\u001b[39m\u001b[39minput\u001b[39m\u001b[39m'\u001b[39m])\n\u001b[1;32m      <a href='vscode-notebook-cell://dev-container%2B7b22686f737450617468223a222f686f6d652f73616d75656c652f7265706f732f4c4c4d5f72657365617263685f617373697374616e74222c226c6f63616c446f636b6572223a66616c73652c22636f6e66696746696c65223a7b22246d6964223a312c2270617468223a222f686f6d652f73616d75656c652f7265706f732f4c4c4d5f72657365617263685f617373697374616e742f2e646576636f6e7461696e65722f646576636f6e7461696e65722e6a736f6e222c22736368656d65223a227673636f64652d66696c65486f7374227d7d@ssh-remote%2Bserver_tesla/workspaces/LLM_research_assistant/notebooks/explore_rag_papers.ipynb#X26sdnNjb2RlLXJlbW90ZQ%3D%3D?line=1'>2</a>\u001b[0m context\n",
      "\u001b[0;31mNameError\u001b[0m: name 'retriever' is not defined"
     ]
    }
   ],
   "source": [
    "context = (retriever | format_docs).invoke(prompt_parameters['input'])\n",
    "context"
   ]
  },
  {
   "cell_type": "code",
   "execution_count": 1,
   "metadata": {},
   "outputs": [
    {
     "ename": "NameError",
     "evalue": "name 'context' is not defined",
     "output_type": "error",
     "traceback": [
      "\u001b[0;31m---------------------------------------------------------------------------\u001b[0m",
      "\u001b[0;31mNameError\u001b[0m                                 Traceback (most recent call last)",
      "\u001b[1;32m/workspaces/LLM_research_assistant/notebooks/explore_rag_papers.ipynb Cell 22\u001b[0m line \u001b[0;36m1\n\u001b[0;32m----> <a href='vscode-notebook-cell://dev-container%2B7b22686f737450617468223a222f686f6d652f73616d75656c652f7265706f732f4c4c4d5f72657365617263685f617373697374616e74222c226c6f63616c446f636b6572223a66616c73652c22636f6e66696746696c65223a7b22246d6964223a312c2270617468223a222f686f6d652f73616d75656c652f7265706f732f4c4c4d5f72657365617263685f617373697374616e742f2e646576636f6e7461696e65722f646576636f6e7461696e65722e6a736f6e222c22736368656d65223a227673636f64652d66696c65486f7374227d7d@ssh-remote%2Bserver_tesla/workspaces/LLM_research_assistant/notebooks/explore_rag_papers.ipynb#X34sdnNjb2RlLXJlbW90ZQ%3D%3D?line=0'>1</a>\u001b[0m prompt_parameters[\u001b[39m'\u001b[39m\u001b[39mcontext\u001b[39m\u001b[39m'\u001b[39m] \u001b[39m=\u001b[39m context\n",
      "\u001b[0;31mNameError\u001b[0m: name 'context' is not defined"
     ]
    }
   ],
   "source": [
    "prompt_parameters['context'] = context"
   ]
  },
  {
   "cell_type": "code",
   "execution_count": 68,
   "metadata": {},
   "outputs": [
    {
     "ename": "KeyError",
     "evalue": "'context'",
     "output_type": "error",
     "traceback": [
      "\u001b[0;31m---------------------------------------------------------------------------\u001b[0m",
      "\u001b[0;31mKeyError\u001b[0m                                  Traceback (most recent call last)",
      "\u001b[1;32m/workspaces/LLM_research_assistant/notebooks/explore_rag_papers.ipynb Cell 21\u001b[0m line \u001b[0;36m1\n\u001b[0;32m----> <a href='vscode-notebook-cell://dev-container%2B7b22686f737450617468223a222f686f6d652f73616d75656c652f7265706f732f4c4c4d5f72657365617263685f617373697374616e74222c226c6f63616c446f636b6572223a66616c73652c22636f6e66696746696c65223a7b22246d6964223a312c2270617468223a222f686f6d652f73616d75656c652f7265706f732f4c4c4d5f72657365617263685f617373697374616e742f2e646576636f6e7461696e65722f646576636f6e7461696e65722e6a736f6e222c22736368656d65223a227673636f64652d66696c65486f7374227d7d@ssh-remote%2Bserver_tesla/workspaces/LLM_research_assistant/notebooks/explore_rag_papers.ipynb#X34sdnNjb2RlLXJlbW90ZQ%3D%3D?line=0'>1</a>\u001b[0m \u001b[39mprint\u001b[39m(prompt_rag\u001b[39m.\u001b[39;49mformat(\u001b[39m*\u001b[39;49m\u001b[39m*\u001b[39;49mprompt_parameters))\n",
      "File \u001b[0;32m/workspaces/LLM_research_assistant/.venv/lib/python3.10/site-packages/langchain_core/prompts/chat.py:586\u001b[0m, in \u001b[0;36mChatPromptTemplate.format\u001b[0;34m(self, **kwargs)\u001b[0m\n\u001b[1;32m    576\u001b[0m \u001b[39mdef\u001b[39;00m \u001b[39mformat\u001b[39m(\u001b[39mself\u001b[39m, \u001b[39m*\u001b[39m\u001b[39m*\u001b[39mkwargs: Any) \u001b[39m-\u001b[39m\u001b[39m>\u001b[39m \u001b[39mstr\u001b[39m:\n\u001b[1;32m    577\u001b[0m \u001b[39m    \u001b[39m\u001b[39m\"\"\"Format the chat template into a string.\u001b[39;00m\n\u001b[1;32m    578\u001b[0m \n\u001b[1;32m    579\u001b[0m \u001b[39m    Args:\u001b[39;00m\n\u001b[0;32m   (...)\u001b[0m\n\u001b[1;32m    584\u001b[0m \u001b[39m        formatted string\u001b[39;00m\n\u001b[1;32m    585\u001b[0m \u001b[39m    \"\"\"\u001b[39;00m\n\u001b[0;32m--> 586\u001b[0m     \u001b[39mreturn\u001b[39;00m \u001b[39mself\u001b[39;49m\u001b[39m.\u001b[39;49mformat_prompt(\u001b[39m*\u001b[39;49m\u001b[39m*\u001b[39;49mkwargs)\u001b[39m.\u001b[39mto_string()\n",
      "File \u001b[0;32m/workspaces/LLM_research_assistant/.venv/lib/python3.10/site-packages/langchain_core/prompts/chat.py:357\u001b[0m, in \u001b[0;36mBaseChatPromptTemplate.format_prompt\u001b[0;34m(self, **kwargs)\u001b[0m\n\u001b[1;32m    348\u001b[0m \u001b[39mdef\u001b[39;00m \u001b[39mformat_prompt\u001b[39m(\u001b[39mself\u001b[39m, \u001b[39m*\u001b[39m\u001b[39m*\u001b[39mkwargs: Any) \u001b[39m-\u001b[39m\u001b[39m>\u001b[39m PromptValue:\n\u001b[1;32m    349\u001b[0m \u001b[39m    \u001b[39m\u001b[39m\"\"\"\u001b[39;00m\n\u001b[1;32m    350\u001b[0m \u001b[39m    Format prompt. Should return a PromptValue.\u001b[39;00m\n\u001b[1;32m    351\u001b[0m \u001b[39m    Args:\u001b[39;00m\n\u001b[0;32m   (...)\u001b[0m\n\u001b[1;32m    355\u001b[0m \u001b[39m        PromptValue.\u001b[39;00m\n\u001b[1;32m    356\u001b[0m \u001b[39m    \"\"\"\u001b[39;00m\n\u001b[0;32m--> 357\u001b[0m     messages \u001b[39m=\u001b[39m \u001b[39mself\u001b[39;49m\u001b[39m.\u001b[39;49mformat_messages(\u001b[39m*\u001b[39;49m\u001b[39m*\u001b[39;49mkwargs)\n\u001b[1;32m    358\u001b[0m     \u001b[39mreturn\u001b[39;00m ChatPromptValue(messages\u001b[39m=\u001b[39mmessages)\n",
      "File \u001b[0;32m/workspaces/LLM_research_assistant/.venv/lib/python3.10/site-packages/langchain_core/prompts/chat.py:611\u001b[0m, in \u001b[0;36mChatPromptTemplate.format_messages\u001b[0;34m(self, **kwargs)\u001b[0m\n\u001b[1;32m    603\u001b[0m \u001b[39melif\u001b[39;00m \u001b[39misinstance\u001b[39m(\n\u001b[1;32m    604\u001b[0m     message_template, (BaseMessagePromptTemplate, BaseChatPromptTemplate)\n\u001b[1;32m    605\u001b[0m ):\n\u001b[1;32m    606\u001b[0m     rel_params \u001b[39m=\u001b[39m {\n\u001b[1;32m    607\u001b[0m         k: v\n\u001b[1;32m    608\u001b[0m         \u001b[39mfor\u001b[39;00m k, v \u001b[39min\u001b[39;00m kwargs\u001b[39m.\u001b[39mitems()\n\u001b[1;32m    609\u001b[0m         \u001b[39mif\u001b[39;00m k \u001b[39min\u001b[39;00m message_template\u001b[39m.\u001b[39minput_variables\n\u001b[1;32m    610\u001b[0m     }\n\u001b[0;32m--> 611\u001b[0m     message \u001b[39m=\u001b[39m message_template\u001b[39m.\u001b[39;49mformat_messages(\u001b[39m*\u001b[39;49m\u001b[39m*\u001b[39;49mrel_params)\n\u001b[1;32m    612\u001b[0m     result\u001b[39m.\u001b[39mextend(message)\n\u001b[1;32m    613\u001b[0m \u001b[39melse\u001b[39;00m:\n",
      "File \u001b[0;32m/workspaces/LLM_research_assistant/.venv/lib/python3.10/site-packages/langchain_core/prompts/chat.py:220\u001b[0m, in \u001b[0;36mBaseStringMessagePromptTemplate.format_messages\u001b[0;34m(self, **kwargs)\u001b[0m\n\u001b[1;32m    211\u001b[0m \u001b[39mdef\u001b[39;00m \u001b[39mformat_messages\u001b[39m(\u001b[39mself\u001b[39m, \u001b[39m*\u001b[39m\u001b[39m*\u001b[39mkwargs: Any) \u001b[39m-\u001b[39m\u001b[39m>\u001b[39m List[BaseMessage]:\n\u001b[1;32m    212\u001b[0m \u001b[39m    \u001b[39m\u001b[39m\"\"\"Format messages from kwargs.\u001b[39;00m\n\u001b[1;32m    213\u001b[0m \n\u001b[1;32m    214\u001b[0m \u001b[39m    Args:\u001b[39;00m\n\u001b[0;32m   (...)\u001b[0m\n\u001b[1;32m    218\u001b[0m \u001b[39m        List of BaseMessages.\u001b[39;00m\n\u001b[1;32m    219\u001b[0m \u001b[39m    \"\"\"\u001b[39;00m\n\u001b[0;32m--> 220\u001b[0m     \u001b[39mreturn\u001b[39;00m [\u001b[39mself\u001b[39;49m\u001b[39m.\u001b[39;49mformat(\u001b[39m*\u001b[39;49m\u001b[39m*\u001b[39;49mkwargs)]\n",
      "File \u001b[0;32m/workspaces/LLM_research_assistant/.venv/lib/python3.10/site-packages/langchain_core/prompts/chat.py:320\u001b[0m, in \u001b[0;36mSystemMessagePromptTemplate.format\u001b[0;34m(self, **kwargs)\u001b[0m\n\u001b[1;32m    311\u001b[0m \u001b[39mdef\u001b[39;00m \u001b[39mformat\u001b[39m(\u001b[39mself\u001b[39m, \u001b[39m*\u001b[39m\u001b[39m*\u001b[39mkwargs: Any) \u001b[39m-\u001b[39m\u001b[39m>\u001b[39m BaseMessage:\n\u001b[1;32m    312\u001b[0m \u001b[39m    \u001b[39m\u001b[39m\"\"\"Format the prompt template.\u001b[39;00m\n\u001b[1;32m    313\u001b[0m \n\u001b[1;32m    314\u001b[0m \u001b[39m    Args:\u001b[39;00m\n\u001b[0;32m   (...)\u001b[0m\n\u001b[1;32m    318\u001b[0m \u001b[39m        Formatted message.\u001b[39;00m\n\u001b[1;32m    319\u001b[0m \u001b[39m    \"\"\"\u001b[39;00m\n\u001b[0;32m--> 320\u001b[0m     text \u001b[39m=\u001b[39m \u001b[39mself\u001b[39;49m\u001b[39m.\u001b[39;49mprompt\u001b[39m.\u001b[39;49mformat(\u001b[39m*\u001b[39;49m\u001b[39m*\u001b[39;49mkwargs)\n\u001b[1;32m    321\u001b[0m     \u001b[39mreturn\u001b[39;00m SystemMessage(content\u001b[39m=\u001b[39mtext, additional_kwargs\u001b[39m=\u001b[39m\u001b[39mself\u001b[39m\u001b[39m.\u001b[39madditional_kwargs)\n",
      "File \u001b[0;32m/workspaces/LLM_research_assistant/.venv/lib/python3.10/site-packages/langchain_core/prompts/prompt.py:132\u001b[0m, in \u001b[0;36mPromptTemplate.format\u001b[0;34m(self, **kwargs)\u001b[0m\n\u001b[1;32m    117\u001b[0m \u001b[39m\u001b[39m\u001b[39m\"\"\"Format the prompt with the inputs.\u001b[39;00m\n\u001b[1;32m    118\u001b[0m \n\u001b[1;32m    119\u001b[0m \u001b[39mArgs:\u001b[39;00m\n\u001b[0;32m   (...)\u001b[0m\n\u001b[1;32m    129\u001b[0m \u001b[39m        prompt.format(variable1=\"foo\")\u001b[39;00m\n\u001b[1;32m    130\u001b[0m \u001b[39m\"\"\"\u001b[39;00m\n\u001b[1;32m    131\u001b[0m kwargs \u001b[39m=\u001b[39m \u001b[39mself\u001b[39m\u001b[39m.\u001b[39m_merge_partial_and_user_variables(\u001b[39m*\u001b[39m\u001b[39m*\u001b[39mkwargs)\n\u001b[0;32m--> 132\u001b[0m \u001b[39mreturn\u001b[39;00m DEFAULT_FORMATTER_MAPPING[\u001b[39mself\u001b[39;49m\u001b[39m.\u001b[39;49mtemplate_format](\u001b[39mself\u001b[39;49m\u001b[39m.\u001b[39;49mtemplate, \u001b[39m*\u001b[39;49m\u001b[39m*\u001b[39;49mkwargs)\n",
      "File \u001b[0;32m/usr/lib/python3.10/string.py:161\u001b[0m, in \u001b[0;36mFormatter.format\u001b[0;34m(self, format_string, *args, **kwargs)\u001b[0m\n\u001b[1;32m    160\u001b[0m \u001b[39mdef\u001b[39;00m \u001b[39mformat\u001b[39m(\u001b[39mself\u001b[39m, format_string, \u001b[39m/\u001b[39m, \u001b[39m*\u001b[39margs, \u001b[39m*\u001b[39m\u001b[39m*\u001b[39mkwargs):\n\u001b[0;32m--> 161\u001b[0m     \u001b[39mreturn\u001b[39;00m \u001b[39mself\u001b[39;49m\u001b[39m.\u001b[39;49mvformat(format_string, args, kwargs)\n",
      "File \u001b[0;32m/workspaces/LLM_research_assistant/.venv/lib/python3.10/site-packages/langchain_core/utils/formatting.py:29\u001b[0m, in \u001b[0;36mStrictFormatter.vformat\u001b[0;34m(self, format_string, args, kwargs)\u001b[0m\n\u001b[1;32m     24\u001b[0m \u001b[39mif\u001b[39;00m \u001b[39mlen\u001b[39m(args) \u001b[39m>\u001b[39m \u001b[39m0\u001b[39m:\n\u001b[1;32m     25\u001b[0m     \u001b[39mraise\u001b[39;00m \u001b[39mValueError\u001b[39;00m(\n\u001b[1;32m     26\u001b[0m         \u001b[39m\"\u001b[39m\u001b[39mNo arguments should be provided, \u001b[39m\u001b[39m\"\u001b[39m\n\u001b[1;32m     27\u001b[0m         \u001b[39m\"\u001b[39m\u001b[39meverything should be passed as keyword arguments.\u001b[39m\u001b[39m\"\u001b[39m\n\u001b[1;32m     28\u001b[0m     )\n\u001b[0;32m---> 29\u001b[0m \u001b[39mreturn\u001b[39;00m \u001b[39msuper\u001b[39;49m()\u001b[39m.\u001b[39;49mvformat(format_string, args, kwargs)\n",
      "File \u001b[0;32m/usr/lib/python3.10/string.py:165\u001b[0m, in \u001b[0;36mFormatter.vformat\u001b[0;34m(self, format_string, args, kwargs)\u001b[0m\n\u001b[1;32m    163\u001b[0m \u001b[39mdef\u001b[39;00m \u001b[39mvformat\u001b[39m(\u001b[39mself\u001b[39m, format_string, args, kwargs):\n\u001b[1;32m    164\u001b[0m     used_args \u001b[39m=\u001b[39m \u001b[39mset\u001b[39m()\n\u001b[0;32m--> 165\u001b[0m     result, _ \u001b[39m=\u001b[39m \u001b[39mself\u001b[39;49m\u001b[39m.\u001b[39;49m_vformat(format_string, args, kwargs, used_args, \u001b[39m2\u001b[39;49m)\n\u001b[1;32m    166\u001b[0m     \u001b[39mself\u001b[39m\u001b[39m.\u001b[39mcheck_unused_args(used_args, args, kwargs)\n\u001b[1;32m    167\u001b[0m     \u001b[39mreturn\u001b[39;00m result\n",
      "File \u001b[0;32m/usr/lib/python3.10/string.py:205\u001b[0m, in \u001b[0;36mFormatter._vformat\u001b[0;34m(self, format_string, args, kwargs, used_args, recursion_depth, auto_arg_index)\u001b[0m\n\u001b[1;32m    201\u001b[0m     auto_arg_index \u001b[39m=\u001b[39m \u001b[39mFalse\u001b[39;00m\n\u001b[1;32m    203\u001b[0m \u001b[39m# given the field_name, find the object it references\u001b[39;00m\n\u001b[1;32m    204\u001b[0m \u001b[39m#  and the argument it came from\u001b[39;00m\n\u001b[0;32m--> 205\u001b[0m obj, arg_used \u001b[39m=\u001b[39m \u001b[39mself\u001b[39;49m\u001b[39m.\u001b[39;49mget_field(field_name, args, kwargs)\n\u001b[1;32m    206\u001b[0m used_args\u001b[39m.\u001b[39madd(arg_used)\n\u001b[1;32m    208\u001b[0m \u001b[39m# do any conversion on the resulting object\u001b[39;00m\n",
      "File \u001b[0;32m/usr/lib/python3.10/string.py:270\u001b[0m, in \u001b[0;36mFormatter.get_field\u001b[0;34m(self, field_name, args, kwargs)\u001b[0m\n\u001b[1;32m    267\u001b[0m \u001b[39mdef\u001b[39;00m \u001b[39mget_field\u001b[39m(\u001b[39mself\u001b[39m, field_name, args, kwargs):\n\u001b[1;32m    268\u001b[0m     first, rest \u001b[39m=\u001b[39m _string\u001b[39m.\u001b[39mformatter_field_name_split(field_name)\n\u001b[0;32m--> 270\u001b[0m     obj \u001b[39m=\u001b[39m \u001b[39mself\u001b[39;49m\u001b[39m.\u001b[39;49mget_value(first, args, kwargs)\n\u001b[1;32m    272\u001b[0m     \u001b[39m# loop through the rest of the field_name, doing\u001b[39;00m\n\u001b[1;32m    273\u001b[0m     \u001b[39m#  getattr or getitem as needed\u001b[39;00m\n\u001b[1;32m    274\u001b[0m     \u001b[39mfor\u001b[39;00m is_attr, i \u001b[39min\u001b[39;00m rest:\n",
      "File \u001b[0;32m/usr/lib/python3.10/string.py:227\u001b[0m, in \u001b[0;36mFormatter.get_value\u001b[0;34m(self, key, args, kwargs)\u001b[0m\n\u001b[1;32m    225\u001b[0m     \u001b[39mreturn\u001b[39;00m args[key]\n\u001b[1;32m    226\u001b[0m \u001b[39melse\u001b[39;00m:\n\u001b[0;32m--> 227\u001b[0m     \u001b[39mreturn\u001b[39;00m kwargs[key]\n",
      "\u001b[0;31mKeyError\u001b[0m: 'context'"
     ]
    }
   ],
   "source": [
    "print(prompt_rag.format(**prompt_parameters))\n"
   ]
  },
  {
   "cell_type": "code",
   "execution_count": 47,
   "metadata": {},
   "outputs": [],
   "source": [
    "response_rag = chain_rag.invoke(prompt_parameters['input'])\n"
   ]
  },
  {
   "cell_type": "code",
   "execution_count": 48,
   "metadata": {},
   "outputs": [
    {
     "data": {
      "text/plain": [
       "'The main components of Progressive Contextual Instance Refinement (PCIR) are the DCIR module and the PPSP module. The DCIR module is responsible for mining all potential instances existing in the images, while the PPSP module removes noisy negative samples and maintains the diversity of the samples. These two modules work together to formulate the PCIR process, which is a progressive contextual instance refinement approach. The key innovation of PCIR lies in its ability to progressively refine the instance predictions by iteratively updating the instance proposals and removing false positives. This iterative refinement process improves the accuracy and reliability of object detection in remote sensing images. [1]\\n\\n[1] Progressive Contextual Instance Refinement for Weakly Supervised Object Detection in Remote Sensing Images.'"
      ]
     },
     "execution_count": 48,
     "metadata": {},
     "output_type": "execute_result"
    }
   ],
   "source": [
    "response_rag"
   ]
  },
  {
   "cell_type": "code",
   "execution_count": 10,
   "metadata": {},
   "outputs": [],
   "source": [
    "db = Chroma(persist_directory='/workspaces/LLM_research_assistant/data/db/chroma', embedding_function=OpenAIEmbeddings())\n"
   ]
  },
  {
   "cell_type": "code",
   "execution_count": 11,
   "metadata": {},
   "outputs": [
    {
     "data": {
      "text/plain": [
       "[Document(page_content='Combining DCIR with PPSP formulates a progressive contextual instance refinement (PCIR) process.', metadata={'bboxes': \"[[{'page': '2', 'x': '321.96', 'y': '334.52', 'h': '241.38', 'w': '8.76'}, {'page': '2', 'x': '312.00', 'y': '346.40', 'h': '200.51', 'w': '8.76'}], [{'page': '2', 'x': '518.06', 'y': '346.40', 'h': '45.03', 'w': '8.76'}, {'page': '2', 'x': '312.00', 'y': '358.40', 'h': '250.99', 'w': '8.76'}, {'page': '2', 'x': '312.00', 'y': '370.28', 'h': '251.31', 'w': '8.76'}, {'page': '2', 'x': '312.00', 'y': '382.28', 'h': '216.93', 'w': '8.76'}], [{'page': '2', 'x': '533.16', 'y': '382.28', 'h': '30.08', 'w': '8.76'}, {'page': '2', 'x': '312.00', 'y': '394.28', 'h': '251.12', 'w': '8.76'}, {'page': '2', 'x': '312.00', 'y': '406.16', 'h': '251.01', 'w': '8.76'}, {'page': '2', 'x': '312.00', 'y': '418.16', 'h': '251.11', 'w': '8.76'}, {'page': '2', 'x': '312.00', 'y': '430.16', 'h': '23.10', 'w': '8.76'}], [{'page': '2', 'x': '338.37', 'y': '430.16', 'h': '224.89', 'w': '8.76'}, {'page': '2', 'x': '312.00', 'y': '442.04', 'h': '44.02', 'w': '8.76'}]]\", 'file_path': 'data/selected_papers/2020 - Progressive Contextual Instance Refinement for Weakly Supervised Object Detection in Remote Sensing Images.pdf', 'pages': \"('2', '2')\", 'paper_title': 'Progressive Contextual Instance Refinement for Weakly Supervised Object Detection in Remote Sensing Images', 'para': '0', 'section_number': 'None', 'section_title': 'I. INTRODUCTION', 'text': 'Combining DCIR with PPSP formulates a progressive contextual instance refinement (PCIR) process.'}),\n",
       " Document(page_content='Combining DCIR with PPSP formulates a progressive contextual instance refinement (PCIR) process.The DCIR module endeavors to mine all potential instances existing in the images, while the PPSP module removes noisy negative samples and maintains the diversity of the samples.', metadata={'bboxes': \"[[{'page': '2', 'x': '321.96', 'y': '334.52', 'h': '241.38', 'w': '8.76'}, {'page': '2', 'x': '312.00', 'y': '346.40', 'h': '200.51', 'w': '8.76'}], [{'page': '2', 'x': '518.06', 'y': '346.40', 'h': '45.03', 'w': '8.76'}, {'page': '2', 'x': '312.00', 'y': '358.40', 'h': '250.99', 'w': '8.76'}, {'page': '2', 'x': '312.00', 'y': '370.28', 'h': '251.31', 'w': '8.76'}, {'page': '2', 'x': '312.00', 'y': '382.28', 'h': '216.93', 'w': '8.76'}], [{'page': '2', 'x': '533.16', 'y': '382.28', 'h': '30.08', 'w': '8.76'}, {'page': '2', 'x': '312.00', 'y': '394.28', 'h': '251.12', 'w': '8.76'}, {'page': '2', 'x': '312.00', 'y': '406.16', 'h': '251.01', 'w': '8.76'}, {'page': '2', 'x': '312.00', 'y': '418.16', 'h': '251.11', 'w': '8.76'}, {'page': '2', 'x': '312.00', 'y': '430.16', 'h': '23.10', 'w': '8.76'}], [{'page': '2', 'x': '338.37', 'y': '430.16', 'h': '224.89', 'w': '8.76'}, {'page': '2', 'x': '312.00', 'y': '442.04', 'h': '44.02', 'w': '8.76'}]]\", 'file_path': 'data/selected_papers/2020 - Progressive Contextual Instance Refinement for Weakly Supervised Object Detection in Remote Sensing Images.pdf', 'pages': \"('2', '2')\", 'paper_title': 'Progressive Contextual Instance Refinement for Weakly Supervised Object Detection in Remote Sensing Images', 'para': '1', 'section_number': 'None', 'section_title': 'I. INTRODUCTION', 'text': 'Combining DCIR with PPSP formulates a progressive contextual instance refinement (PCIR) process.The DCIR module endeavors to mine all potential instances existing in the images, while the PPSP module removes noisy negative samples and maintains the diversity of the samples.'}),\n",
       " Document(page_content='Combining DCIR with PPSP formulates a progressive contextual instance refinement (PCIR) process.The DCIR module endeavors to mine all potential instances existing in the images, while the PPSP module removes noisy negative samples and maintains the diversity of the samples.Experiments on the NWPU VHR-10.v2 and DIOR data sets clearly demonstrate the effectiveness of our method compared with the state-of-the-art methods under a weakly supervised paradigm.To sum up, our main contributions can be summarized as follows.', metadata={'bboxes': \"[[{'page': '2', 'x': '321.96', 'y': '334.52', 'h': '241.38', 'w': '8.76'}, {'page': '2', 'x': '312.00', 'y': '346.40', 'h': '200.51', 'w': '8.76'}], [{'page': '2', 'x': '518.06', 'y': '346.40', 'h': '45.03', 'w': '8.76'}, {'page': '2', 'x': '312.00', 'y': '358.40', 'h': '250.99', 'w': '8.76'}, {'page': '2', 'x': '312.00', 'y': '370.28', 'h': '251.31', 'w': '8.76'}, {'page': '2', 'x': '312.00', 'y': '382.28', 'h': '216.93', 'w': '8.76'}], [{'page': '2', 'x': '533.16', 'y': '382.28', 'h': '30.08', 'w': '8.76'}, {'page': '2', 'x': '312.00', 'y': '394.28', 'h': '251.12', 'w': '8.76'}, {'page': '2', 'x': '312.00', 'y': '406.16', 'h': '251.01', 'w': '8.76'}, {'page': '2', 'x': '312.00', 'y': '418.16', 'h': '251.11', 'w': '8.76'}, {'page': '2', 'x': '312.00', 'y': '430.16', 'h': '23.10', 'w': '8.76'}], [{'page': '2', 'x': '338.37', 'y': '430.16', 'h': '224.89', 'w': '8.76'}, {'page': '2', 'x': '312.00', 'y': '442.04', 'h': '44.02', 'w': '8.76'}]]\", 'file_path': 'data/selected_papers/2020 - Progressive Contextual Instance Refinement for Weakly Supervised Object Detection in Remote Sensing Images.pdf', 'pages': \"('2', '2')\", 'paper_title': 'Progressive Contextual Instance Refinement for Weakly Supervised Object Detection in Remote Sensing Images', 'para': '3', 'section_number': 'None', 'section_title': 'I. INTRODUCTION', 'text': 'Combining DCIR with PPSP formulates a progressive contextual instance refinement (PCIR) process.The DCIR module endeavors to mine all potential instances existing in the images, while the PPSP module removes noisy negative samples and maintains the diversity of the samples.Experiments on the NWPU VHR-10.v2 and DIOR data sets clearly demonstrate the effectiveness of our method compared with the state-of-the-art methods under a weakly supervised paradigm.To sum up, our main contributions can be summarized as follows.'}),\n",
       " Document(page_content='Combining DCIR with PPSP formulates a progressive contextual instance refinement (PCIR) process.The DCIR module endeavors to mine all potential instances existing in the images, while the PPSP module removes noisy negative samples and maintains the diversity of the samples.Experiments on the NWPU VHR-10.v2 and DIOR data sets clearly demonstrate the effectiveness of our method compared with the state-of-the-art methods under a weakly supervised paradigm.', metadata={'bboxes': \"[[{'page': '2', 'x': '321.96', 'y': '334.52', 'h': '241.38', 'w': '8.76'}, {'page': '2', 'x': '312.00', 'y': '346.40', 'h': '200.51', 'w': '8.76'}], [{'page': '2', 'x': '518.06', 'y': '346.40', 'h': '45.03', 'w': '8.76'}, {'page': '2', 'x': '312.00', 'y': '358.40', 'h': '250.99', 'w': '8.76'}, {'page': '2', 'x': '312.00', 'y': '370.28', 'h': '251.31', 'w': '8.76'}, {'page': '2', 'x': '312.00', 'y': '382.28', 'h': '216.93', 'w': '8.76'}], [{'page': '2', 'x': '533.16', 'y': '382.28', 'h': '30.08', 'w': '8.76'}, {'page': '2', 'x': '312.00', 'y': '394.28', 'h': '251.12', 'w': '8.76'}, {'page': '2', 'x': '312.00', 'y': '406.16', 'h': '251.01', 'w': '8.76'}, {'page': '2', 'x': '312.00', 'y': '418.16', 'h': '251.11', 'w': '8.76'}, {'page': '2', 'x': '312.00', 'y': '430.16', 'h': '23.10', 'w': '8.76'}], [{'page': '2', 'x': '338.37', 'y': '430.16', 'h': '224.89', 'w': '8.76'}, {'page': '2', 'x': '312.00', 'y': '442.04', 'h': '44.02', 'w': '8.76'}]]\", 'file_path': 'data/selected_papers/2020 - Progressive Contextual Instance Refinement for Weakly Supervised Object Detection in Remote Sensing Images.pdf', 'pages': \"('2', '2')\", 'paper_title': 'Progressive Contextual Instance Refinement for Weakly Supervised Object Detection in Remote Sensing Images', 'para': '2', 'section_number': 'None', 'section_title': 'I. INTRODUCTION', 'text': 'Combining DCIR with PPSP formulates a progressive contextual instance refinement (PCIR) process.The DCIR module endeavors to mine all potential instances existing in the images, while the PPSP module removes noisy negative samples and maintains the diversity of the samples.Experiments on the NWPU VHR-10.v2 and DIOR data sets clearly demonstrate the effectiveness of our method compared with the state-of-the-art methods under a weakly supervised paradigm.'})]"
      ]
     },
     "execution_count": 11,
     "metadata": {},
     "output_type": "execute_result"
    }
   ],
   "source": [
    "db.similarity_search(prompt_parameters['input'])"
   ]
  },
  {
   "cell_type": "code",
   "execution_count": 21,
   "metadata": {},
   "outputs": [],
   "source": [
    "retriever = db.as_retriever()\n"
   ]
  },
  {
   "cell_type": "code",
   "execution_count": 22,
   "metadata": {},
   "outputs": [],
   "source": [
    "context = (retriever | format_docs).invoke(prompt_parameters['input'])\n"
   ]
  },
  {
   "cell_type": "code",
   "execution_count": 23,
   "metadata": {},
   "outputs": [
    {
     "data": {
      "text/plain": [
       "''"
      ]
     },
     "execution_count": 23,
     "metadata": {},
     "output_type": "execute_result"
    }
   ],
   "source": [
    "context"
   ]
  },
  {
   "cell_type": "code",
   "execution_count": null,
   "metadata": {},
   "outputs": [],
   "source": []
  }
 ],
 "metadata": {
  "kernelspec": {
   "display_name": ".venv",
   "language": "python",
   "name": "python3"
  },
  "language_info": {
   "codemirror_mode": {
    "name": "ipython",
    "version": 3
   },
   "file_extension": ".py",
   "mimetype": "text/x-python",
   "name": "python",
   "nbconvert_exporter": "python",
   "pygments_lexer": "ipython3",
   "version": "3.10.12"
  },
  "orig_nbformat": 4
 },
 "nbformat": 4,
 "nbformat_minor": 2
}
